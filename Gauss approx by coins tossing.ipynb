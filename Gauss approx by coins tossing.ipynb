{
 "cells": [
  {
   "cell_type": "markdown",
   "id": "af403631",
   "metadata": {},
   "source": [
    "## Gaussian approximation from coin tossing samples"
   ]
  },
  {
   "cell_type": "markdown",
   "id": "e6bbf497",
   "metadata": {},
   "source": [
    "Simulate Gaussian random variable from coin tossing samples by using numpy.random.choice"
   ]
  },
  {
   "cell_type": "markdown",
   "id": "ed3c6ccd",
   "metadata": {},
   "source": [
    "Central limit theorem: No matter the distribution of the sample data coming from, the samples means will be normally distributed.\n",
    "\n",
    "Setting up: \n",
    "Take a sample of n data points which represent the coin tossing:\n",
    "X_i = 1 if head with probability 0.5, \n",
    "X_i =0 if tail if probability 0.5 \n",
    "for i = 1, 2, ..., n.\n",
    "X_i's iid with mean=0.5 and var= 0.5 \n",
    "\n",
    "S_n = the number of Head appeared in the n times tossing coin independently divided by the number of flips\n",
    "$$S_n = 1/n(X_1 + X_2 +....+X_n)$$\n",
    "Mean (S_n) = 0.5, Var(S_n) = 0.5/n\n",
    "\n",
    "The Central Limit Theorem states that total number of heads divided by the number of flips (S_n) should tend toward a normal distribution with a mean of 0.5 and a variance of 0.5/n\n",
    "\n",
    "Hence (S_n - 0.5)/sqrt(0.5/n) tends to standard Gaussian distribution N(0,1)."
   ]
  },
  {
   "cell_type": "code",
   "execution_count": 268,
   "id": "365ebd17",
   "metadata": {},
   "outputs": [],
   "source": [
    "import numpy as np\n",
    "import matplotlib.pyplot as plt"
   ]
  },
  {
   "cell_type": "markdown",
   "id": "827e21cc",
   "metadata": {},
   "source": [
    "We generate 100 random 0's and 1's, with 1=head and 0=tail"
   ]
  },
  {
   "cell_type": "code",
   "execution_count": 269,
   "id": "39f904e4",
   "metadata": {},
   "outputs": [
    {
     "name": "stdout",
     "output_type": "stream",
     "text": [
      "[1 0 0 0 0 1 0 1 0 0 0 1 0 0 1 0 1 1 0 1 0 0 0 1 1 0 1 1 1 0 1 0 1 1 0 0 1\n",
      " 1 1 1 0 0 0 1 1 0 1 0 0 0 0 1 1 1 0 0 0 0 0 0 0 1 0 0 1 1 1 1 0 1 1 0 1 0\n",
      " 1 0 1 0 1 0 1 1 1 0 0 0 0 0 1 1 1 0 0 1 1 0 0 0 1 1]\n"
     ]
    }
   ],
   "source": [
    "no_flips = 100 # Number of coin flips\n",
    "#Generate a uniform random sample from np.arange(2) of size= n_flips, probability of each elements appeared = 1/2\n",
    "data = np.random.choice(2, no_flips) \n",
    "print(data)"
   ]
  },
  {
   "cell_type": "code",
   "execution_count": 270,
   "id": "3a053807",
   "metadata": {},
   "outputs": [
    {
     "name": "stdout",
     "output_type": "stream",
     "text": [
      "47\n"
     ]
    }
   ],
   "source": [
    "#the number of head in data \n",
    "no_heads = np.sum(data)\n",
    "print(no_heads)"
   ]
  },
  {
   "cell_type": "code",
   "execution_count": 271,
   "id": "21520649",
   "metadata": {},
   "outputs": [
    {
     "data": {
      "text/plain": [
       "-0.42426406871192884"
      ]
     },
     "execution_count": 271,
     "metadata": {},
     "output_type": "execute_result"
    }
   ],
   "source": [
    "df=np.sqrt(no_flips)*(np.sum(data)/no_flips - 0.5)/np.sqrt(0.5)\n",
    "df"
   ]
  },
  {
   "cell_type": "markdown",
   "id": "a089802e",
   "metadata": {},
   "source": [
    "Repeat 1000 times the number of experiments above and plot the results "
   ]
  },
  {
   "cell_type": "code",
   "execution_count": 272,
   "id": "9df0998f",
   "metadata": {},
   "outputs": [],
   "source": [
    "no_experiments = 1000               # number of experiments to simulate\n",
    "results = np.zeros(no_experiments) # Create array for results of \"experiments\"\n",
    "\n",
    "for i in range(no_experiments):\n",
    "    df=np.random.choice(2, no_flips)\n",
    "    results[i] = np.sqrt(no_flips)*(np.sum(df)/no_flips - 0.5)/np.sqrt(0.5)\n",
    "    #Note that each experiment consists of 100 coin flips"
   ]
  },
  {
   "cell_type": "code",
   "execution_count": 278,
   "id": "f2bb4d28",
   "metadata": {},
   "outputs": [
    {
     "data": {
      "image/png": "[encoded data removed]",
      "text/plain": [
       "<Figure size 576x432 with 1 Axes>"
      ]
     },
     "metadata": {
      "needs_background": "light"
     },
     "output_type": "display_data"
    }
   ],
   "source": [
    "nbins=50\n",
    "plt.figure(figsize=(8, 6))\n",
    "plt.xlabel(\"the numbef of heads\")\n",
    "plt.ylabel(\"occurrences\")\n",
    "plt.hist(results, nbins)\n",
    "plt.show()"
   ]
  },
  {
   "cell_type": "code",
   "execution_count": 279,
   "id": "2e21d1a6",
   "metadata": {},
   "outputs": [
    {
     "data": {
      "image/png": "[encoded data removed]",
      "text/plain": [
       "<Figure size 576x432 with 1 Axes>"
      ]
     },
     "metadata": {
      "needs_background": "light"
     },
     "output_type": "display_data"
    }
   ],
   "source": [
    "no_experiments = 10000               # number of experiments to simulate\n",
    "results = np.zeros(no_experiments) # Create array for results of \"experiments\"\n",
    "\n",
    "for i in range(no_experiments):\n",
    "    df=np.random.choice(2, no_flips)\n",
    "    results[i] = np.sqrt(no_flips)*(np.sum(df)/no_flips - 0.5)/np.sqrt(0.5)\n",
    "\n",
    "nbins=50\n",
    "plt.figure(figsize=(8, 6))\n",
    "plt.xlabel(\"the numbef of heads\")\n",
    "plt.ylabel(\"occurrences\")\n",
    "plt.hist(results, nbins)\n",
    "plt.show()"
   ]
  },
  {
   "cell_type": "code",
   "execution_count": 280,
   "id": "3fd383ab",
   "metadata": {},
   "outputs": [
    {
     "data": {
      "image/png": "[encoded data removed]",
      "text/plain": [
       "<Figure size 576x432 with 1 Axes>"
      ]
     },
     "metadata": {
      "needs_background": "light"
     },
     "output_type": "display_data"
    }
   ],
   "source": [
    "no_experiments = 100000               # number of experiments to simulate\n",
    "results = np.zeros(no_experiments)    # Create array for results of \"experiments\"\n",
    "\n",
    "for i in range(no_experiments):\n",
    "    df=np.random.choice(2, no_flips)\n",
    "    results[i] = np.sqrt(no_flips)*(np.sum(df)/no_flips - 0.5)/np.sqrt(0.5)\n",
    "\n",
    "nbins=50\n",
    "plt.figure(figsize=(8, 6))\n",
    "plt.xlabel(\"the numbef of heads\")\n",
    "plt.ylabel(\"occurrences\")\n",
    "plt.hist(results, nbins)\n",
    "plt.show()"
   ]
  },
  {
   "cell_type": "code",
   "execution_count": null,
   "id": "642730ce",
   "metadata": {},
   "outputs": [],
   "source": []
  },
  {
   "cell_type": "code",
   "execution_count": null,
   "id": "3a03cdd5",
   "metadata": {},
   "outputs": [],
   "source": []
  },
  {
   "cell_type": "code",
   "execution_count": null,
   "id": "c1da80f7",
   "metadata": {},
   "outputs": [],
   "source": []
  }
 ],
 "metadata": {
  "kernelspec": {
   "display_name": "Python 3",
   "language": "python",
   "name": "python3"
  },
  "language_info": {
   "codemirror_mode": {
    "name": "ipython",
    "version": 3
   },
   "file_extension": ".py",
   "mimetype": "text/x-python",
   "name": "python",
   "nbconvert_exporter": "python",
   "pygments_lexer": "ipython3",
   "version": "3.8.8"
  }
 },
 "nbformat": 4,
 "nbformat_minor": 5
}
